{
  "cells": [
    {
      "cell_type": "markdown",
      "metadata": {
        "id": "view-in-github",
        "colab_type": "text"
      },
      "source": [
        "<a href=\"https://colab.research.google.com/github/Advanced-Research-Centre/QraftRNA/blob/main/Quantum_algorithm_for_RNA_design.ipynb\" target=\"_parent\"><img src=\"https://colab.research.google.com/assets/colab-badge.svg\" alt=\"Open In Colab\"/></a>"
      ]
    },
    {
      "cell_type": "markdown",
      "metadata": {
        "id": "Zjdd0h6VfDF6"
      },
      "source": [
        "# Grover's search for RNA design"
      ]
    },
    {
      "cell_type": "code",
      "execution_count": null,
      "metadata": {
        "id": "Jj78cf_wfDF9"
      },
      "outputs": [],
      "source": [
        "import numpy as np\n",
        "from math import pi,log2,floor,ceil\n",
        "from qiskit import *\n",
        "from qiskit.circuit import *\n",
        "from qiskit.extensions import *\n",
        "from qiskit.circuit.library import *\n",
        "from qiskit.extensions.simulator.snapshot import snapshot\n",
        "from qiskit.quantum_info.operators import Operator\n",
        "from qiskit.extensions.simulator.snapshot import snapshot\n",
        "from scipy import optimize\n",
        "from matplotlib.pyplot import plot,show\n",
        "%matplotlib inline\n",
        "%config InlineBackend.figure_format = 'svg' # Makes the images look nice"
      ]
    },
    {
      "cell_type": "markdown",
      "metadata": {
        "id": "t4bK-MslfDGF"
      },
      "source": [
        "## 1 - Addition\n",
        "\n",
        "Let's implement the circuit in [1] modified to add mod 2^n."
      ]
    },
    {
      "cell_type": "code",
      "execution_count": null,
      "metadata": {
        "id": "iRSBWK-gfDGF",
        "outputId": "f6278983-4e7b-440c-896a-d5fce416c36e"
      },
      "outputs": [
        {
          "data": {
            "text/html": [
              "<pre style=\"word-wrap: normal;white-space: pre;background: #fff0;line-height: 1.1;font-family: &quot;Courier New&quot;,Courier,monospace\">       ┌──────┐                                                                »\n",
              "q1499: ┤0     ├────────────────────────────────────────────────────────────────»\n",
              "       │      │┌──────┐                                                        »\n",
              "  =_0: ┤2     ├┤0     ├────────────────────────────────────────────────────────»\n",
              "       │      ││      │┌──────┐                                                »\n",
              "  =_1: ┤      ├┤2     ├┤0     ├────────────────────────────────────────────────»\n",
              "       │      ││      ││      │┌──────┐                                ┌──────┐»\n",
              "  =_2: ┤      ├┤      ├┤2     ├┤0     ├────────────────────────────────┤0     ├»\n",
              "       │  MAJ ││      ││      ││      │┌──────┐                ┌──────┐│      │»\n",
              "  =_3: ┤      ├┤      ├┤      ├┤2     ├┤0     ├────────────────┤0     ├┤2     ├»\n",
              "       │      ││  MAJ ││      ││      ││      │┌──────┐┌──────┐│      ││      │»\n",
              "  =_4: ┤      ├┤      ├┤      ├┤      ├┤2     ├┤0     ├┤0     ├┤2     ├┤      ├»\n",
              "       │      ││      ││  MAJ ││      ││      ││      ││      ││      ││      │»\n",
              "  =_5: ┤      ├┤      ├┤      ├┤      ├┤      ├┤2     ├┤2     ├┤      ├┤      ├»\n",
              "       │      ││      ││      ││  MAJ ││      ││      ││      ││      ││  UMA │»\n",
              " ->_0: ┤1     ├┤      ├┤      ├┤      ├┤      ├┤      ├┤      ├┤      ├┤      ├»\n",
              "       └──────┘│      ││      ││      ││  MAJ ││      ││      ││  UMA ││      │»\n",
              " ->_1: ────────┤1     ├┤      ├┤      ├┤      ├┤      ├┤      ├┤      ├┤      ├»\n",
              "               └──────┘│      ││      ││      ││  MAJ ││  UMA ││      ││      │»\n",
              " ->_2: ────────────────┤1     ├┤      ├┤      ├┤      ├┤      ├┤      ├┤      ├»\n",
              "                       └──────┘│      ││      ││      ││      ││      ││      │»\n",
              " ->_3: ────────────────────────┤1     ├┤      ├┤      ├┤      ├┤      ├┤1     ├»\n",
              "                               └──────┘│      ││      ││      ││      │└──────┘»\n",
              " ->_4: ────────────────────────────────┤1     ├┤      ├┤      ├┤1     ├────────»\n",
              "                                       └──────┘│      ││      │└──────┘        »\n",
              " ->_5: ────────────────────────────────────────┤1     ├┤1     ├────────────────»\n",
              "                                               └──────┘└──────┘                »\n",
              "«                       ┌──────┐\n",
              "«q1499: ────────────────┤0     ├\n",
              "«               ┌──────┐│      │\n",
              "«  =_0: ────────┤0     ├┤2     ├\n",
              "«       ┌──────┐│      ││      │\n",
              "«  =_1: ┤0     ├┤2     ├┤      ├\n",
              "«       │      ││      ││      │\n",
              "«  =_2: ┤2     ├┤      ├┤      ├\n",
              "«       │      ││      ││  UMA │\n",
              "«  =_3: ┤      ├┤      ├┤      ├\n",
              "«       │      ││  UMA ││      │\n",
              "«  =_4: ┤      ├┤      ├┤      ├\n",
              "«       │  UMA ││      ││      │\n",
              "«  =_5: ┤      ├┤      ├┤      ├\n",
              "«       │      ││      ││      │\n",
              "« ->_0: ┤      ├┤      ├┤1     ├\n",
              "«       │      ││      │└──────┘\n",
              "« ->_1: ┤      ├┤1     ├────────\n",
              "«       │      │└──────┘        \n",
              "« ->_2: ┤1     ├────────────────\n",
              "«       └──────┘                \n",
              "« ->_3: ────────────────────────\n",
              "«                               \n",
              "« ->_4: ────────────────────────\n",
              "«                               \n",
              "« ->_5: ────────────────────────\n",
              "«                               </pre>"
            ],
            "text/plain": [
              "       ┌──────┐                                                                »\n",
              "q1499: ┤0     ├────────────────────────────────────────────────────────────────»\n",
              "       │      │┌──────┐                                                        »\n",
              "  =_0: ┤2     ├┤0     ├────────────────────────────────────────────────────────»\n",
              "       │      ││      │┌──────┐                                                »\n",
              "  =_1: ┤      ├┤2     ├┤0     ├────────────────────────────────────────────────»\n",
              "       │      ││      ││      │┌──────┐                                ┌──────┐»\n",
              "  =_2: ┤      ├┤      ├┤2     ├┤0     ├────────────────────────────────┤0     ├»\n",
              "       │  MAJ ││      ││      ││      │┌──────┐                ┌──────┐│      │»\n",
              "  =_3: ┤      ├┤      ├┤      ├┤2     ├┤0     ├────────────────┤0     ├┤2     ├»\n",
              "       │      ││  MAJ ││      ││      ││      │┌──────┐┌──────┐│      ││      │»\n",
              "  =_4: ┤      ├┤      ├┤      ├┤      ├┤2     ├┤0     ├┤0     ├┤2     ├┤      ├»\n",
              "       │      ││      ││  MAJ ││      ││      ││      ││      ││      ││      │»\n",
              "  =_5: ┤      ├┤      ├┤      ├┤      ├┤      ├┤2     ├┤2     ├┤      ├┤      ├»\n",
              "       │      ││      ││      ││  MAJ ││      ││      ││      ││      ││  UMA │»\n",
              " ->_0: ┤1     ├┤      ├┤      ├┤      ├┤      ├┤      ├┤      ├┤      ├┤      ├»\n",
              "       └──────┘│      ││      ││      ││  MAJ ││      ││      ││  UMA ││      │»\n",
              " ->_1: ────────┤1     ├┤      ├┤      ├┤      ├┤      ├┤      ├┤      ├┤      ├»\n",
              "               └──────┘│      ││      ││      ││  MAJ ││  UMA ││      ││      │»\n",
              " ->_2: ────────────────┤1     ├┤      ├┤      ├┤      ├┤      ├┤      ├┤      ├»\n",
              "                       └──────┘│      ││      ││      ││      ││      ││      │»\n",
              " ->_3: ────────────────────────┤1     ├┤      ├┤      ├┤      ├┤      ├┤1     ├»\n",
              "                               └──────┘│      ││      ││      ││      │└──────┘»\n",
              " ->_4: ────────────────────────────────┤1     ├┤      ├┤      ├┤1     ├────────»\n",
              "                                       └──────┘│      ││      │└──────┘        »\n",
              " ->_5: ────────────────────────────────────────┤1     ├┤1     ├────────────────»\n",
              "                                               └──────┘└──────┘                »\n",
              "«                       ┌──────┐\n",
              "«q1499: ────────────────┤0     ├\n",
              "«               ┌──────┐│      │\n",
              "«  =_0: ────────┤0     ├┤2     ├\n",
              "«       ┌──────┐│      ││      │\n",
              "«  =_1: ┤0     ├┤2     ├┤      ├\n",
              "«       │      ││      ││      │\n",
              "«  =_2: ┤2     ├┤      ├┤      ├\n",
              "«       │      ││      ││  UMA │\n",
              "«  =_3: ┤      ├┤      ├┤      ├\n",
              "«       │      ││  UMA ││      │\n",
              "«  =_4: ┤      ├┤      ├┤      ├\n",
              "«       │  UMA ││      ││      │\n",
              "«  =_5: ┤      ├┤      ├┤      ├\n",
              "«       │      ││      ││      │\n",
              "« ->_0: ┤      ├┤      ├┤1     ├\n",
              "«       │      ││      │└──────┘\n",
              "« ->_1: ┤      ├┤1     ├────────\n",
              "«       │      │└──────┘        \n",
              "« ->_2: ┤1     ├────────────────\n",
              "«       └──────┘                \n",
              "« ->_3: ────────────────────────\n",
              "«                               \n",
              "« ->_4: ────────────────────────\n",
              "«                               \n",
              "« ->_5: ────────────────────────\n",
              "«                               "
            ]
          },
          "execution_count": 51,
          "metadata": {},
          "output_type": "execute_result"
        }
      ],
      "source": [
        "#MAJ\n",
        "q=QuantumRegister(3)\n",
        "MAJ = QuantumCircuit(q)\n",
        "\n",
        "MAJ.cnot(q[2],q[1])\n",
        "MAJ.cnot(q[2],q[0])\n",
        "MAJ.ccx(q[0],q[1],q[2])\n",
        "\n",
        "maj = MAJ.to_gate(label='MAJ')\n",
        "\n",
        "#UMA\n",
        "q=QuantumRegister(3)\n",
        "UMA = QuantumCircuit(q)\n",
        "\n",
        "UMA.ccx(q[0],q[1],q[2])\n",
        "UMA.cnot(q[2],q[0])\n",
        "UMA.cnot(q[0],q[1])\n",
        "\n",
        "uma = UMA.to_gate(label='UMA')\n",
        "\n",
        "#add\n",
        "def add_circuit(nb_bits):\n",
        "    concerved = QuantumRegister(nb_bits, name=\"=\")\n",
        "    not_concerved = QuantumRegister(nb_bits, name=\"->\")\n",
        "    initial_carry = QuantumRegister(1)\n",
        "    add = QuantumCircuit(initial_carry,concerved,not_concerved)\n",
        "    add.append(maj,[initial_carry,not_concerved[0],concerved[0]])\n",
        "    for i in range(1,nb_bits):\n",
        "        add.append(maj,[concerved[i-1],not_concerved[i],concerved[i]])\n",
        "    for i in range(nb_bits-1,0,-1):\n",
        "        add.append(uma,[concerved[i-1],not_concerved[i],concerved[i]])\n",
        "    add.append(uma,[initial_carry,not_concerved[0],concerved[0]])\n",
        "    return add\n",
        "\n",
        "def add_gate(nb_bits):\n",
        "    return add_circuit(nb_bits).to_gate(label=\"add{}\".format(nb_bits))\n",
        "\n",
        "add_circuit(6).draw()"
      ]
    },
    {
      "cell_type": "markdown",
      "metadata": {
        "id": "XX2RXPaDfDGG"
      },
      "source": [
        "## 2 - Matching parenthesis"
      ]
    },
    {
      "cell_type": "markdown",
      "metadata": {
        "id": "Y3R1x1DMfDGG"
      },
      "source": [
        "`(`, `.` and `)` are encoded respectively by 1, 0 and -1, which are encoded with one's complement representation."
      ]
    },
    {
      "cell_type": "code",
      "source": [
        "!pip install qiskit ipywidgets\n",
        "from qiskit import *\n",
        "from qiskit.circuit import *\n",
        "from math import log2, ceil\n",
        "import qiskit.quantum_info as qi"
      ],
      "metadata": {
        "id": "I3TABK7lpTU-",
        "outputId": "a3acbadc-e8e6-4995-ca9d-b5831059c27a",
        "colab": {
          "base_uri": "https://localhost:8080/"
        }
      },
      "execution_count": 2,
      "outputs": [
        {
          "output_type": "stream",
          "name": "stdout",
          "text": [
            "Installing collected packages: ply, websockets, symengine, rustworkx, pbr, ntlm-auth, jedi, dill, stevedore, requests-ntlm, qiskit-terra, qiskit-ibmq-provider, qiskit-aer, qiskit\n",
            "Successfully installed dill-0.3.6 jedi-0.18.2 ntlm-auth-1.5.0 pbr-5.11.1 ply-3.11 qiskit-0.43.1 qiskit-aer-0.12.0 qiskit-ibmq-provider-0.20.2 qiskit-terra-0.24.1 requests-ntlm-1.1.0 rustworkx-0.13.0 stevedore-5.1.0 symengine-0.9.2 websockets-11.0.3\n"
          ]
        }
      ]
    },
    {
      "cell_type": "code",
      "source": [
        "\"\"\"\n",
        "Aritra: This code block is for my self understanding of Émile's code blocks\n",
        "\"\"\"\n",
        "\n",
        "db_syms = 3       # Encoding: '(' --> \"01\", '.' --> \"00\", ')' --> \"11\", encoding such that adding encoding of matching parathesis adds up to zero, and counting dots can be skipped over.\n",
        "rna_syms = 4      # Encoding: 'A' --> \"00\", 'C' --> \"10\", 'U' --> \"01\", 'G' --> \"11\"\n",
        "\n",
        "fold_db = \"(.)\"\n",
        "seq_len = len(fold_db)\n",
        "fold_pos_qb = ceil(log2(seq_len))\n",
        "fold_db_qb = ceil(log2(db_syms))\n",
        "\n",
        "print(fold_db, seq_len, fold_pos_qb, fold_db_qb)\n",
        "unmatch_ctr_qb = fold_pos_qb       # Worst case is when the entire fold_db is '('\n",
        "\n",
        "\n",
        "fold_db_qreg = QuantumRegister(fold_db_qb,name=\"fold_db\")\n",
        "fold_pos_qreg = QuantumRegister(fold_pos_qb,name=\"fold_pos\")\n",
        "unmatch_ctr_qreg = QuantumRegister(unmatch_ctr_qb,name=\"unmatch_ctr\")\n",
        "\n",
        "qc = QuantumCircuit(fold_db_qreg,fold_pos_qreg,unmatch_ctr_qreg)\n",
        "\n",
        "qc.h(fold_db_qreg)\n",
        "qc.h(fold_pos_qreg)\n",
        "# now every position every dot-bracket symbols are in superposition\n",
        "\n",
        "qc.draw()"
      ],
      "metadata": {
        "id": "woi8IBPPhLh4",
        "outputId": "d4427dc9-87ed-4746-c3ab-0a4d9a94e1c8",
        "colab": {
          "base_uri": "https://localhost:8080/",
          "height": 234
        }
      },
      "execution_count": 7,
      "outputs": [
        {
          "output_type": "stream",
          "name": "stdout",
          "text": [
            "(.) 3 2 2\n"
          ]
        },
        {
          "output_type": "execute_result",
          "data": {
            "text/plain": [
              "               ┌───┐\n",
              "    fold_db_0: ┤ H ├\n",
              "               ├───┤\n",
              "    fold_db_1: ┤ H ├\n",
              "               ├───┤\n",
              "   fold_pos_0: ┤ H ├\n",
              "               ├───┤\n",
              "   fold_pos_1: ┤ H ├\n",
              "               └───┘\n",
              "unmatch_ctr_0: ─────\n",
              "                    \n",
              "unmatch_ctr_1: ─────\n",
              "                    "
            ],
            "text/html": [
              "<pre style=\"word-wrap: normal;white-space: pre;background: #fff0;line-height: 1.1;font-family: &quot;Courier New&quot;,Courier,monospace\">               ┌───┐\n",
              "    fold_db_0: ┤ H ├\n",
              "               ├───┤\n",
              "    fold_db_1: ┤ H ├\n",
              "               ├───┤\n",
              "   fold_pos_0: ┤ H ├\n",
              "               ├───┤\n",
              "   fold_pos_1: ┤ H ├\n",
              "               └───┘\n",
              "unmatch_ctr_0: ─────\n",
              "                    \n",
              "unmatch_ctr_1: ─────\n",
              "                    </pre>"
            ]
          },
          "metadata": {},
          "execution_count": 7
        }
      ]
    },
    {
      "cell_type": "code",
      "source": [
        "\"\"\"\n",
        "Aritra: This code block is for my self understanding of Émile's code blocks\n",
        "\"\"\"\n",
        "\n",
        "db_syms = 3       # Encoding: '(' --> \"01\", '.' --> \"00\", ')' --> \"11\", encoding such that adding encoding of matching parathesis adds up to zero, and counting dots can be skipped over.\n",
        "rna_syms = 4      # Encoding: 'A' --> \"00\", 'C' --> \"10\", 'U' --> \"01\", 'G' --> \"11\"\n",
        "\n",
        "fold_db = \"(.)\"\n",
        "seq_len = len(fold_db)\n",
        "fold_pos_qb = ceil(log2(seq_len))\n",
        "fold_db_qb = ceil(log2(db_syms))\n",
        "\n",
        "print(fold_db, seq_len, fold_pos_qb, fold_db_qb)\n",
        "unmatch_ctr_qb = fold_pos_qb       # Worst case is when the entire fold_db is '('\n",
        "\n",
        "\n",
        "fold_db_qreg = QuantumRegister(fold_db_qb,name=\"fold_db\")\n",
        "fold_pos_qreg = QuantumRegister(fold_pos_qb,name=\"fold_pos\")\n",
        "unmatch_ctr_qreg = QuantumRegister(unmatch_ctr_qb,name=\"unmatch_ctr\")\n",
        "\n",
        "qc = QuantumCircuit(fold_db_qreg,fold_pos_qreg,unmatch_ctr_qreg)\n",
        "\n",
        "qc.h(fold_db_qreg)\n",
        "qc.h(fold_pos_qreg)\n",
        "# now every position every dot-bracket symbols are in superposition\n",
        "\n",
        "print(qc.draw())\n",
        "\n",
        "stv1 = qi.Statevector.from_instruction(qc)\n",
        "print(stv1)\n",
        "stv1.draw('latex', prefix='SV:')\n"
      ],
      "metadata": {
        "id": "0oDwzE81sgSA",
        "outputId": "bc5c34dc-b693-4fc9-f797-0056897f000f",
        "colab": {
          "base_uri": "https://localhost:8080/",
          "height": 511
        }
      },
      "execution_count": 18,
      "outputs": [
        {
          "output_type": "stream",
          "name": "stdout",
          "text": [
            "(.) 3 2 2\n",
            "               ┌───┐\n",
            "    fold_db_0: ┤ H ├\n",
            "               ├───┤\n",
            "    fold_db_1: ┤ H ├\n",
            "               ├───┤\n",
            "   fold_pos_0: ┤ H ├\n",
            "               ├───┤\n",
            "   fold_pos_1: ┤ H ├\n",
            "               └───┘\n",
            "unmatch_ctr_0: ─────\n",
            "                    \n",
            "unmatch_ctr_1: ─────\n",
            "                    \n",
            "Statevector([0.25+0.j, 0.25+0.j, 0.25+0.j, 0.25+0.j, 0.25+0.j, 0.25+0.j,\n",
            "             0.25+0.j, 0.25+0.j, 0.25+0.j, 0.25+0.j, 0.25+0.j, 0.25+0.j,\n",
            "             0.25+0.j, 0.25+0.j, 0.25+0.j, 0.25+0.j, 0.  +0.j, 0.  +0.j,\n",
            "             0.  +0.j, 0.  +0.j, 0.  +0.j, 0.  +0.j, 0.  +0.j, 0.  +0.j,\n",
            "             0.  +0.j, 0.  +0.j, 0.  +0.j, 0.  +0.j, 0.  +0.j, 0.  +0.j,\n",
            "             0.  +0.j, 0.  +0.j, 0.  +0.j, 0.  +0.j, 0.  +0.j, 0.  +0.j,\n",
            "             0.  +0.j, 0.  +0.j, 0.  +0.j, 0.  +0.j, 0.  +0.j, 0.  +0.j,\n",
            "             0.  +0.j, 0.  +0.j, 0.  +0.j, 0.  +0.j, 0.  +0.j, 0.  +0.j,\n",
            "             0.  +0.j, 0.  +0.j, 0.  +0.j, 0.  +0.j, 0.  +0.j, 0.  +0.j,\n",
            "             0.  +0.j, 0.  +0.j, 0.  +0.j, 0.  +0.j, 0.  +0.j, 0.  +0.j,\n",
            "             0.  +0.j, 0.  +0.j, 0.  +0.j, 0.  +0.j],\n",
            "            dims=(2, 2, 2, 2, 2, 2))\n"
          ]
        },
        {
          "output_type": "execute_result",
          "data": {
            "text/plain": [
              "<IPython.core.display.Latex object>"
            ],
            "text/latex": "$$SV:\\frac{1}{4} |000000\\rangle+\\frac{1}{4} |000001\\rangle+\\frac{1}{4} |000010\\rangle+\\frac{1}{4} |000011\\rangle+\\frac{1}{4} |000100\\rangle+\\frac{1}{4} |000101\\rangle + \\ldots +\\frac{1}{4} |001011\\rangle+\\frac{1}{4} |001100\\rangle+\\frac{1}{4} |001101\\rangle+\\frac{1}{4} |001110\\rangle+\\frac{1}{4} |001111\\rangle$$"
          },
          "metadata": {},
          "execution_count": 18
        }
      ]
    },
    {
      "cell_type": "code",
      "execution_count": null,
      "metadata": {
        "id": "YyccHdtYfDGH",
        "outputId": "bc325203-e35e-430e-9dd0-4e6934b3667d",
        "colab": {
          "base_uri": "https://localhost:8080/",
          "height": 357
        }
      },
      "outputs": [
        {
          "output_type": "error",
          "ename": "NameError",
          "evalue": "ignored",
          "traceback": [
            "\u001b[0;31m---------------------------------------------------------------------------\u001b[0m",
            "\u001b[0;31mNameError\u001b[0m                                 Traceback (most recent call last)",
            "\u001b[0;32m<ipython-input-1-cb4154d7b1f9>\u001b[0m in \u001b[0;36m<cell line: 234>\u001b[0;34m()\u001b[0m\n\u001b[1;32m    232\u001b[0m \u001b[0mfold_db\u001b[0m \u001b[0;34m=\u001b[0m \u001b[0;34m\"(.)\"\u001b[0m\u001b[0;34m\u001b[0m\u001b[0;34m\u001b[0m\u001b[0m\n\u001b[1;32m    233\u001b[0m \u001b[0;34m\u001b[0m\u001b[0m\n\u001b[0;32m--> 234\u001b[0;31m \u001b[0mcirc\u001b[0m\u001b[0;34m=\u001b[0m\u001b[0mmatching_parenthesis_circuit\u001b[0m\u001b[0;34m(\u001b[0m\u001b[0;36m3\u001b[0m\u001b[0;34m)\u001b[0m\u001b[0;34m\u001b[0m\u001b[0;34m\u001b[0m\u001b[0m\n\u001b[0m\u001b[1;32m    235\u001b[0m \u001b[0;34m\u001b[0m\u001b[0m\n\u001b[1;32m    236\u001b[0m \u001b[0mcirc\u001b[0m\u001b[0;34m.\u001b[0m\u001b[0mdraw\u001b[0m\u001b[0;34m(\u001b[0m\u001b[0;34m)\u001b[0m\u001b[0;34m\u001b[0m\u001b[0;34m\u001b[0m\u001b[0m\n",
            "\u001b[0;32m<ipython-input-1-cb4154d7b1f9>\u001b[0m in \u001b[0;36mmatching_parenthesis_circuit\u001b[0;34m(length)\u001b[0m\n\u001b[1;32m     16\u001b[0m \u001b[0;34m\u001b[0m\u001b[0m\n\u001b[1;32m     17\u001b[0m \u001b[0;32mdef\u001b[0m \u001b[0mmatching_parenthesis_circuit\u001b[0m\u001b[0;34m(\u001b[0m\u001b[0mlength\u001b[0m\u001b[0;34m)\u001b[0m\u001b[0;34m:\u001b[0m\u001b[0;34m\u001b[0m\u001b[0;34m\u001b[0m\u001b[0m\n\u001b[0;32m---> 18\u001b[0;31m     \u001b[0mnb_bits_position\u001b[0m\u001b[0;34m=\u001b[0m\u001b[0mceil\u001b[0m\u001b[0;34m(\u001b[0m\u001b[0mlog2\u001b[0m\u001b[0;34m(\u001b[0m\u001b[0mlength\u001b[0m\u001b[0;34m+\u001b[0m\u001b[0;36m1\u001b[0m\u001b[0;34m)\u001b[0m\u001b[0;34m)\u001b[0m \u001b[0;31m#length+1 because we add a ( at the begining to check the folding is well formed\u001b[0m\u001b[0;34m\u001b[0m\u001b[0;34m\u001b[0m\u001b[0m\n\u001b[0m\u001b[1;32m     19\u001b[0m     \u001b[0madd_positions\u001b[0m\u001b[0;34m=\u001b[0m\u001b[0madd_gate\u001b[0m\u001b[0;34m(\u001b[0m\u001b[0mnb_bits_position\u001b[0m\u001b[0;34m)\u001b[0m\u001b[0;34m\u001b[0m\u001b[0;34m\u001b[0m\u001b[0m\n\u001b[1;32m     20\u001b[0m \u001b[0;34m\u001b[0m\u001b[0m\n",
            "\u001b[0;31mNameError\u001b[0m: name 'ceil' is not defined"
          ]
        }
      ],
      "source": [
        "prnb_bits_bracket_dot = 2\n",
        "nb_bits_loop_type = 3\n",
        "\n",
        "def n_to_ctrl_state(n,nb_bits):\n",
        "    return format(n,\"0{}b\".format(nb_bits))\n",
        "\n",
        "#if test_concerved == tested_to_0 then tested_to_0 is set to 0 and will trigger the application of some gate in then_append(circuit,tested_to_0,nb_bits_test,gate,...)\n",
        "def start_if_equal(circuit,tested_to_0,nb_bits_test,test_concerved):\n",
        "    for i in range(nb_bits_test):\n",
        "        circuit.cx(test_concerved[i],tested_to_0[i])\n",
        "\n",
        "end_if_equal=start_if_equal\n",
        "\n",
        "def then_append(circuit,test_0,nb_bits_test,gate,qbits_list):\n",
        "    circuit.append(gate.control(nb_bits_test,ctrl_state=\"0\"*nb_bits_test),[test_0[i] for i in range(nb_bits_test)]+qbits_list)\n",
        "\n",
        "def matching_parenthesis_circuit(length):\n",
        "    nb_bits_position=ceil(log2(length+1)) #length+1 because we add a ( at the begining to check the folding is well formed\n",
        "    add_positions=add_gate(nb_bits_position)\n",
        "\n",
        "    #input\n",
        "    #semantics of folding\n",
        "    #. == \"00\"\n",
        "    #h == \"10\"\n",
        "    #) == \"11\"\n",
        "    #( == \"01\"\n",
        "    folding = QuantumRegister(nb_bits_position,name=\"(/./h/)\")\n",
        "\n",
        "    #auxillary qbits\n",
        "    k_folding = QuantumRegister(nb_bits_position,name=\"k_folding\")\n",
        "    count = QuantumRegister(nb_bits_position,name=\"count\") #count how many parenthesis still need to be closed. count[k+1] corresponds to folding[k] and count[0] is initiallised to ( and is used to check that there is no extra ) that would match in the folding\n",
        "    k_count = QuantumRegister(nb_bits_position,name=\"k_count\")\n",
        "    continue_searching_right_matching_left = QuantumRegister(1,name=\"continue_match\") #continue_searching_right_matching_left[k] corresponds to count[k]\n",
        "\n",
        "    change_folding_encoding = QuantumRegister(1,name=\"change_encoding\")\n",
        "    continue_scanning = QuantumRegister(1,name=\"continue_scan\")\n",
        "    zeros = QuantumRegister(nb_bits_position,name=\"zero\")\n",
        "    one = QuantumRegister(1,name=\"one\")\n",
        "\n",
        "    #results\n",
        "    k_right_matching_left = QuantumRegister(nb_bits_position,name=\"k_match\") #k_right_matching_left[k_left] is initialised to k_left and is incremented until count[k_left+1]==0, that is until k_right_matching_left[k_left] is the indice of the ) matching the ( ~ folding[k_left-1]\n",
        "    loop = QuantumRegister(nb_bits_position,name=\"loop\") #length of the loop starting at folding[k_left]==(. loop[k_left] is initialised to 0 and is incremented each time count[k_left]==1 until count[k_left]==0\n",
        "    #semantics of loop_type\n",
        "    #interior -> ?\n",
        "    #buggle   -> ?\n",
        "    #multi    -> ?\n",
        "    #hairpin  -> ?\n",
        "    #stack    -> ?\n",
        "    loop_type = QuantumRegister(nb_bits_loop_type,name=\"loop_type\")\n",
        "    incorrect_folding = QuantumRegister(nb_bits_position,name=\"incorrect\")\n",
        "    correct_folding = QuantumRegister(1,name=\"correct\")\n",
        "\n",
        "    circuit = QuantumCircuit(change_folding_encoding,folding,k_folding,count,k_count,continue_scanning,continue_searching_right_matching_left,one,zeros,k_right_matching_left,loop,loop_type,incorrect_folding,correct_folding)\n",
        "\n",
        "\n",
        "    #1) Superposition at the begining of the Groover search\n",
        "\n",
        "    #initialize k_kolding\n",
        "    circuit.h(k_folding)\n",
        "\n",
        "    #any symbol at any position\n",
        "    for i in range(nb_bits_bracket_dot):\n",
        "        circuit.h(folding[i])\n",
        "\n",
        "    #except at position \"0\"*nb_bits_position, where it is necessarily a ( == \"11\" to check if the folding is well formed\n",
        "    for i in range(nb_bits_bracket_dot):\n",
        "        circuit.append(HGate().control(nb_bits_position,ctrl_state=n_to_ctrl_state(0,nb_bits_position)),[k_folding[j] for j in range(nb_bits_position)]+[folding[i]])\n",
        "        circuit.append(MCXGate(        nb_bits_position,ctrl_state=n_to_ctrl_state(0,nb_bits_position)),[k_folding[j] for j in range(nb_bits_position)]+[folding[i]])\n",
        "\n",
        "    #except at positions k > length, where folding[k] is set to .\n",
        "    for k in range(length+1,2**nb_bits_position):\n",
        "        for i in range(nb_bits_bracket_dot):\n",
        "            circuit.append(HGate().control(nb_bits_position,ctrl_state=n_to_ctrl_state(k,nb_bits_position)),[k_folding[j] for j in range(nb_bits_position)]+[folding[i]])\n",
        "\n",
        "    #if this symbol is h == \"10\", then change it to be . == \"00\"\n",
        "    #OPTIMISATION here ?\n",
        "    circuit.ccx(*[folding[i] for i in range(nb_bits_bracket_dot)],change_folding_encoding,ctrl_state=\"10\")\n",
        "    circuit.cnot(change_folding_encoding,folding[nb_bits_bracket_dot-1])\n",
        "\n",
        "\n",
        "    #2) Initialisation of the oracle\n",
        "\n",
        "    #initialise one to 1\n",
        "    circuit.x(one)\n",
        "\n",
        "    #when folding[k_left] == ( (which will be checked by there <*>) then there is initially 1 parenthesis to be closed\n",
        "    circuit.x(continue_searching_right_matching_left)\n",
        "\n",
        "    #initialise k_count to k_left\n",
        "    circuit.h(k_count)\n",
        "    #initialise k_right_matching_left[k_count] to k_left (and it will then be incremented up to the matchning k_right)\n",
        "    for i in range(nb_bits_position):\n",
        "        circuit.cx(k_count[i],k_right_matching_left[i])\n",
        "\n",
        "    #extend folding\n",
        "    #folding[0:nb_bits_bracket_dot] -> folding[0:nb_bits_position]\n",
        "    #. == \"00\" ->  0 == \"0...000\"\n",
        "    #do nothing\n",
        "    #( == \"01\" ->  1 == \"0...001\"\n",
        "    #do nothing\n",
        "    #) == \"11\" -> -1 == \"1...111\"\n",
        "    if nb_bits_bracket_dot < nb_bits_position:\n",
        "        circuit.append(MCMT(XGate(),nb_bits_bracket_dot,nb_bits_position-nb_bits_bracket_dot),[folding[i] for i in range(nb_bits_position)])\n",
        "\n",
        "    #if k_folding == k_count\n",
        "    start_if_equal(circuit,k_count,nb_bits_position,k_folding)\n",
        "\n",
        "    #initialise count with folding\n",
        "    #folding -> count\n",
        "    #. == \"00\" -> 0 == \"0...000\"\n",
        "    #do nothing\n",
        "    #) == \"11\" -> 0 == \"0...000\"\n",
        "    #do nothing\n",
        "    #( == \"01\" -> 1 == \"0...001\"\n",
        "    then_append(circuit,k_count,nb_bits_position,CXGate(),[folding[0],count[0]])\n",
        "\n",
        "    #end if k_folding == k_count\n",
        "    end_if_equal(circuit,k_count,nb_bits_position,k_folding)\n",
        "\n",
        "    #initialise continue_searching_right_matching_left=1 when count == (\n",
        "    circuit.cnot(count[0],continue_searching_right_matching_left)\n",
        "\n",
        "    #initialise continue_scanning=1\n",
        "    circuit.x(continue_scanning)\n",
        "\n",
        "\n",
        "    #3) Compute parameters by scanning the folding\n",
        "\n",
        "    for k in range(length):\n",
        "        #<*> if it has been checked that there is a matching ) to find, then continue_searching_right_matching_left[k_left]==1, otherwise continue_searching_right_matching_left[k_left]==0\n",
        "\n",
        "        #increment k_right_matching_left[k_left] if continue_searching_right_matching_left[k_left]==1\n",
        "        circuit.append(add_positions.control(),[continue_scanning,zeros[nb_bits_position-1],continue_searching_right_matching_left]+[zeros[i] for i in range(nb_bits_position-1)]+[k_right_matching_left[i] for i in range(nb_bits_position)])\n",
        "\n",
        "        #go to the next position\n",
        "        #increment k_count\n",
        "        circuit.append(add_positions,[zeros[nb_bits_position-1],one]+[zeros[i] for i in range(nb_bits_position-1)]+[k_count[i] for i in range(nb_bits_position)])\n",
        "\n",
        "        #if the end has been reached, that is if k_count == 0\n",
        "        #then do not continue_scanning\n",
        "        circuit.append(MCXGate(nb_bits_position,ctrl_state=n_to_ctrl_state(0,nb_bits_position)),[k_count[i] for i in range(nb_bits_position)]+[continue_scanning])\n",
        "\n",
        "        #if k_folding == k_count\n",
        "        start_if_equal(circuit,k_count,nb_bits_position,k_folding)\n",
        "\n",
        "        #if continue_searching_right_matching_left[k_left]==1, then update count[k_left] for the next candidate\n",
        "        if 0 == k:\n",
        "            #necessarily if folding[k_left]==( then continue_searching_right_matching_left[k_left]==1\n",
        "            #so it is ok not controlling by continue_searching_right_matching_left here\n",
        "            then_append(circuit,k_count,nb_bits_position,add_positions.control()              ,[continue_scanning,zeros[nb_bits_position-1]]+[count[i] for i in range(nb_bits_position)]+[folding[i] for i in range(nb_bits_position)])\n",
        "        else:\n",
        "            then_append(circuit,k_count,nb_bits_position,add_positions.control(2)             ,[continue_scanning,continue_searching_right_matching_left,zeros[nb_bits_position-1]]+[count[i] for i in range(nb_bits_position)]+[folding[i] for i in range(nb_bits_position)])\n",
        "\n",
        "\n",
        "        #if continue_searching_right_matching_left[k_left]==0, then simply increment count[k_left] so that it never equals 0 again\n",
        "        #it is ok not controlling by continue_scanning here\n",
        "        if 0 != k:\n",
        "            #as stated previously, if 0==k then necessarily if folding[k_left]==( then continue_searching_right_matching_left[k_left]==1\n",
        "            #so there is no need doing this if 0==k\n",
        "            then_append(circuit,k_count,nb_bits_position,add_positions.control(ctrl_state=\"0\"),[continue_searching_right_matching_left,zeros[nb_bits_position-1]]+[count[i] for i in range(nb_bits_position)]+[one]+[zeros[i] for i in range(nb_bits_position-1)])\n",
        "\n",
        "        #if 1 == count[k_left]\n",
        "        start_if_equal(circuit,count,nb_bits_position,[one]+[zeros[i] for i in range(nb_bits_position-1)])\n",
        "\n",
        "        #if 1 == continue_searching_right_matching_left[k_left] then increment loop[k_left]\n",
        "        if 0==k:\n",
        "            #since the value 0==loop[k_left] is known then there is no need to add in order to increment\n",
        "            #a CXGate() is sufficient\n",
        "            then_append(circuit,[k_count[i] for i in range(nb_bits_position)]+[count[i] for i in range(nb_bits_position)],2*nb_bits_position,CCXGate(),[continue_scanning,continue_searching_right_matching_left,loop[0]])\n",
        "        else:\n",
        "            then_append(circuit,[k_count[i] for i in range(nb_bits_position)]+[count[i] for i in range(nb_bits_position)],2*nb_bits_position,add_positions.control(),[continue_scanning,zeros[nb_bits_position-1]]+[loop[i] for i in range(nb_bits_position)]+[continue_searching_right_matching_left]+[zeros[i] for i in range(nb_bits_position-1)])\n",
        "\n",
        "        #end if 1 == count[k_left]\n",
        "        end_if_equal(circuit,count,nb_bits_position,[one]+[zeros[i] for i in range(nb_bits_position-1)])\n",
        "        #end if k_folding == k_count\n",
        "        end_if_equal(circuit,k_count,nb_bits_position,k_folding)\n",
        "\n",
        "        #if count[k_left] == 0\n",
        "        #then there is no matching ) to find\n",
        "        circuit.append(MCXGate(nb_bits_position,ctrl_state=n_to_ctrl_state(0,nb_bits_position)),[count[i] for i in range(nb_bits_position)]+[continue_searching_right_matching_left])\n",
        "\n",
        "    #set k_count to its initial value by adding it 2**nb_bits_position - length\n",
        "    first_one = -1\n",
        "    for i,bit in enumerate(n_to_ctrl_state(2**nb_bits_position - length,nb_bits_position)):\n",
        "        if '1'==bit:\n",
        "            if 0 > first_one:\n",
        "                first_one = i\n",
        "            else:\n",
        "                circuit.x(zeros[i])\n",
        "    circuit.append(add_positions,[zeros[first_one]]+[k_count[i] for i in range(nb_bits_position)]+[(one if first_one == i else zeros[i]) for i in range(nb_bits_position)])\n",
        "\n",
        "    #restore zeros\n",
        "    first_one = -1\n",
        "    for i,bit in enumerate(n_to_ctrl_state(2**nb_bits_position - length,nb_bits_position)):\n",
        "        if '1'==bit:\n",
        "            if 0 > first_one:\n",
        "                first_one = i\n",
        "            else:\n",
        "                circuit.x(zeros[i])\n",
        "\n",
        "    #Computed parameters\n",
        "    #folding[kleft] -> continue_searching_right_matching_left[k_left] * k_right_matching_left[k_left] * loop                                 * k_count[k_left] * count[k_left]\n",
        "    #(              -> 0 if a matching ) has been found               * k_right_matching_left         * number of . (at level 1) in the loop * k_left          * unspecified\n",
        "    #(              -> 1 if a matching ) has not been found           * !=k_left                      * unspecified                          * k_left          * unspecified\n",
        "    #. or )         -> 0                                              * k_left                        * 0                                    * k_left          * unspecified\n",
        "\n",
        "\n",
        "    #4) Aggregating results\n",
        "\n",
        "    #if each ( of the folding has a matching ) and if an extra ( at the beginning does not have a matching ), then it is a correst folding\n",
        "\n",
        "    #checking if there is an exceeding )\n",
        "    #there is if 0 == continue_searching_right_matching_left[k_left=0]\n",
        "    #since the value 0==incorrect_folding is known then there is no need to add in order to increment\n",
        "    #a CXGate() is sufficient\n",
        "    circuit.append(MCXGate(nb_bits_position+1,ctrl_state=\"0\"+n_to_ctrl_state(0,nb_bits_position)),[k_count[i] for i in range(nb_bits_position)]+[continue_searching_right_matching_left,incorrect_folding[0]])\n",
        "\n",
        "    #sum all the incorrect flags continue_searching_right_matching_left (1 per position) into incorrect_folding\n",
        "    #the sum cannot overflow since if the flag continue_searching_right_matching_left[k_left=0] == 0 (at k_left=0 incorrect beeing 0) then there is a ) somewhere\n",
        "    #so continue_searching_right_matching_left[k_left=somewhere] == 0\n",
        "    #so incorrect_folding is not incremented at each position\n",
        "    for k in range(1,length+1):\n",
        "        circuit.append(add_positions.control(nb_bits_position,ctrl_state=n_to_ctrl_state(k,nb_bits_position)),[k_count[i] for i in range(nb_bits_position)]+[zeros[nb_bits_position-1],continue_searching_right_matching_left]+[zeros[i] for i in range(nb_bits_position-1)]+[incorrect_folding[i] for i in range(nb_bits_position)])\n",
        "\n",
        "    circuit.append(MCXGate(nb_bits_position,ctrl_state=n_to_ctrl_state(0,nb_bits_position)),[incorrect_folding[i] for i in range(nb_bits_position)]+[correct_folding])\n",
        "\n",
        "    return circuit\n",
        "\n",
        "def matching_parenthesis_gate(length):\n",
        "    return matching_parenthesis_circuit(length).to_gate(label=\"matching\")\n",
        "\n",
        "\n",
        "circ=matching_parenthesis_circuit(3)\n",
        "\n",
        "circ.draw()\n"
      ]
    },
    {
      "cell_type": "markdown",
      "metadata": {
        "id": "D-0GvmAefDGI"
      },
      "source": [
        "statistics"
      ]
    },
    {
      "cell_type": "code",
      "execution_count": null,
      "metadata": {
        "id": "VV2gDWlofDGJ",
        "outputId": "a25e2c98-2a49-4829-9644-2149c23ae4bf"
      },
      "outputs": [
        {
          "name": "stdout",
          "output_type": "stream",
          "text": [
            "width 24 ; depth 42\n"
          ]
        }
      ],
      "source": [
        "print(\"width {} ; depth {}\".format(circ.width(),circ.depth()))"
      ]
    }
  ],
  "metadata": {
    "kernelspec": {
      "display_name": "Python 3 (ipykernel)",
      "language": "python",
      "name": "python3"
    },
    "language_info": {
      "codemirror_mode": {
        "name": "ipython",
        "version": 3
      },
      "file_extension": ".py",
      "mimetype": "text/x-python",
      "name": "python",
      "nbconvert_exporter": "python",
      "pygments_lexer": "ipython3",
      "version": "3.11.3"
    },
    "colab": {
      "provenance": [],
      "include_colab_link": true
    }
  },
  "nbformat": 4,
  "nbformat_minor": 0
}